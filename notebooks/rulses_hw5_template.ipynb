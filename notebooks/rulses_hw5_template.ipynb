{
 "cells": [
  {
   "cell_type": "markdown",
   "id": "aa28eceb-179e-458c-83e5-337dd6410907",
   "metadata": {},
   "source": [
    "# HW5 Example Notebook\n",
    "11/15/2024"
   ]
  },
  {
   "cell_type": "code",
   "execution_count": null,
   "id": "8707c498-b70d-45b7-bfa3-a09a5cddef44",
   "metadata": {},
   "outputs": [],
   "source": [
    "#code goes here"
   ]
  },
  {
   "cell_type": "code",
   "execution_count": 2,
   "id": "4d0e52b8-eb65-402f-9976-3371ac045d85",
   "metadata": {},
   "outputs": [
    {
     "name": "stdout",
     "output_type": "stream",
     "text": [
      "hello world\n"
     ]
    }
   ],
   "source": [
    "print(\"hello world\")"
   ]
  },
  {
   "cell_type": "code",
   "execution_count": null,
   "id": "321e4503-e3ec-433d-8ea7-79e4f988927d",
   "metadata": {},
   "outputs": [],
   "source": []
  }
 ],
 "metadata": {
  "kernelspec": {
   "display_name": "Python 3 (ipykernel)",
   "language": "python",
   "name": "python3"
  },
  "language_info": {
   "codemirror_mode": {
    "name": "ipython",
    "version": 3
   },
   "file_extension": ".py",
   "mimetype": "text/x-python",
   "name": "python",
   "nbconvert_exporter": "python",
   "pygments_lexer": "ipython3",
   "version": "3.11.9"
  }
 },
 "nbformat": 4,
 "nbformat_minor": 5
}
